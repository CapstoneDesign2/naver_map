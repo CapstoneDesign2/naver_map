{
 "cells": [
  {
   "cell_type": "code",
   "execution_count": 1,
   "metadata": {},
   "outputs": [],
   "source": [
    "from unittest import result\n",
    "import requests, json, os, sys, time\n",
    "from unittest import result\n",
    "from playwright.sync_api import Playwright, sync_playwright\n",
    "from playwright.async_api import Playwright, async_playwright\n",
    "\n",
    "import pandas as pd\n",
    "import numpy as np\n",
    "import math\n",
    "import json\n",
    "import matplotlib.pyplot as plt\n",
    "import seaborn as sns\n",
    "import time\n",
    "import re\n",
    "from bs4 import BeautifulSoup"
   ]
  },
  {
   "cell_type": "code",
   "execution_count": 2,
   "metadata": {},
   "outputs": [],
   "source": [
    "BASE_URL=f'https://pcmap.place.naver.com/restaurant/1452440066/review/visitor'\n",
    "#1452440066 언더우드 신촌\n",
    "#1137614062 퍼머넌트 해빗탯"
   ]
  },
  {
   "cell_type": "code",
   "execution_count": 3,
   "metadata": {},
   "outputs": [],
   "source": []
  },
  {
   "cell_type": "code",
   "execution_count": 124,
   "metadata": {},
   "outputs": [],
   "source": [
    "'''\n",
    "\"커피가 맛있어요\"\n",
    "\"디저트가 맛있어요\"\n",
    "\"음료가 맛있어요\"\n",
    "\"친절해요\"\n",
    "\"대화하기 좋아요\"\n",
    "\"매장이 청결해요\"\n",
    "\"좌석이 편해요\"\n",
    "\"집중하기 좋아요\"\n",
    "\"인테리어가 멋져요\"\n",
    "\"특별한 메뉴가 있어요\"\n",
    "\"화장실이 깨끗해요\"\n",
    "\"가성비가 좋아요\"\n",
    "\"뷰가 좋아요\"\n",
    "\"사진이 잘 나와요\"\n",
    "\"주차하기 편해요\"\n",
    "'''\n",
    "LABEL_COLUMNS = ['']"
   ]
  },
  {
   "cell_type": "code",
   "execution_count": 20,
   "metadata": {},
   "outputs": [
    {
     "name": "stderr",
     "output_type": "stream",
     "text": [
      "/home/kimhw0820/.local/lib/python3.7/site-packages/ipykernel_launcher.py:15: RuntimeWarning: coroutine 'Page.query_selector' was never awaited\n",
      "  from ipykernel import kernelapp as app\n"
     ]
    },
    {
     "ename": "AttributeError",
     "evalue": "'coroutine' object has no attribute 'query_selector'",
     "output_type": "error",
     "traceback": [
      "\u001b[0;31m---------------------------------------------------------------------------\u001b[0m",
      "\u001b[0;31mAttributeError\u001b[0m                            Traceback (most recent call last)",
      "\u001b[0;32m/tmp/ipykernel_8333/3669174857.py\u001b[0m in \u001b[0;36masync-def-wrapper\u001b[0;34m()\u001b[0m\n\u001b[1;32m     13\u001b[0m         \u001b[0mcount\u001b[0m \u001b[0;34m=\u001b[0m \u001b[0mbutton_css\u001b[0m\u001b[0;34m.\u001b[0m\u001b[0mcount\u001b[0m\u001b[0;34m(\u001b[0m\u001b[0;34m)\u001b[0m\u001b[0;34m\u001b[0m\u001b[0m\n\u001b[1;32m     14\u001b[0m         \u001b[0;32mawait\u001b[0m \u001b[0mbutton_css\u001b[0m\u001b[0;34m.\u001b[0m\u001b[0mclick\u001b[0m\u001b[0;34m(\u001b[0m\u001b[0;34m)\u001b[0m\u001b[0;34m\u001b[0m\u001b[0m\n\u001b[0;32m---> 15\u001b[0;31m \u001b[0;34m\u001b[0m\u001b[0m\n\u001b[0m\u001b[1;32m     16\u001b[0m         \u001b[0mprint\u001b[0m\u001b[0;34m(\u001b[0m\u001b[0mcount\u001b[0m\u001b[0;34m)\u001b[0m\u001b[0;34m\u001b[0m\u001b[0m\n\u001b[1;32m     17\u001b[0m         \u001b[0mprint\u001b[0m\u001b[0;34m(\u001b[0m\u001b[0mlim\u001b[0m\u001b[0;34m)\u001b[0m\u001b[0;34m\u001b[0m\u001b[0m\n",
      "\u001b[0;31mAttributeError\u001b[0m: 'coroutine' object has no attribute 'query_selector'"
     ]
    }
   ],
   "source": [
    "async with async_playwright() as playwright:\n",
    "    \n",
    "    \n",
    "    browser = await playwright.chromium.launch(headless=True)\n",
    "    context = await browser.new_context()\n",
    "    \n",
    "    page = await context.new_page()\n",
    "    await page.goto(BASE_URL)\n",
    "    \n",
    "    lim = 0\n",
    "    while lim < 10:        \n",
    "        button_css = page.query_selector(\"a\").query_selector(\".fvwqf\")\n",
    "        count = button_css.count()\n",
    "        await button_css.click()        \n",
    "\n",
    "        print(count)\n",
    "        print(lim)\n",
    "        if count == 0:\n",
    "            break\n",
    "        \n",
    "        lim+=1"
   ]
  }
 ],
 "metadata": {
  "kernelspec": {
   "display_name": "Python 3.7.0 64-bit",
   "language": "python",
   "name": "python3"
  },
  "language_info": {
   "codemirror_mode": {
    "name": "ipython",
    "version": 3
   },
   "file_extension": ".py",
   "mimetype": "text/x-python",
   "name": "python",
   "nbconvert_exporter": "python",
   "pygments_lexer": "ipython3",
   "version": "3.7.0"
  },
  "orig_nbformat": 4,
  "vscode": {
   "interpreter": {
    "hash": "767d51c1340bd893661ea55ea3124f6de3c7a262a8b4abca0554b478b1e2ff90"
   }
  }
 },
 "nbformat": 4,
 "nbformat_minor": 2
}
